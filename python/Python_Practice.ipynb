{
 "cells": [
  {
   "cell_type": "code",
   "execution_count": null,
   "id": "b5a21537-b1df-4155-ba27-40b331a30a33",
   "metadata": {},
   "outputs": [],
   "source": []
  },
  {
   "cell_type": "code",
   "execution_count": 45,
   "id": "4814ffa9-4168-4a41-bd95-9ebbc9460c98",
   "metadata": {},
   "outputs": [
    {
     "name": "stdin",
     "output_type": "stream",
     "text": [
      "Enter your password:  Cpk@02042003\n"
     ]
    },
    {
     "name": "stdout",
     "output_type": "stream",
     "text": [
      "Good Password\n"
     ]
    }
   ],
   "source": [
    "def check_password(password):\n",
    "    ch = [\"!\",\"@\",\"#\",\"$\",\"%\",\"&\",\"*\",\"(\",\")\"]\n",
    "    if len(password) < 10 or len(password) > 15:\n",
    "        return \"Weak: Password should contain min 10 and max 15 characters\"\n",
    "    elif not (any(char.isupper() for char in password) and any(char.islower() for char in password) and any(char.isdigit() for char in password) and any(char in ch for char in password)):\n",
    "        return \"Password should contain at least 1 uppercase letter, 1 lowercase letter, 1 digit, and 1 special character\"\n",
    "    elif \" \" in password:\n",
    "        return \"Password should not allow white spaces\"\n",
    "    elif password[-1] == \".\" or password[-1] == \"@\":\n",
    "        return \"Password should not end with .(dot) or @ symbol\"\n",
    "    else:\n",
    "        return \"Good Password\"\n",
    "password = input(\"Enter your password: \")\n",
    "print(check_password(password))"
   ]
  },
  {
   "cell_type": "code",
   "execution_count": null,
   "id": "bcd98988-e15e-4ae2-ba01-aa1e3d4e8038",
   "metadata": {},
   "outputs": [],
   "source": []
  },
  {
   "cell_type": "code",
   "execution_count": 55,
   "id": "10740eec-9723-43dd-bc6f-ec7aaa1b0d8c",
   "metadata": {},
   "outputs": [
    {
     "name": "stdin",
     "output_type": "stream",
     "text": [
      "Enter a number:  5\n"
     ]
    },
    {
     "name": "stdout",
     "output_type": "stream",
     "text": [
      "The factorial of 5 is 120\n"
     ]
    }
   ],
   "source": [
    "def factorial(num):\n",
    "    if num == 0:\n",
    "        return 1\n",
    "    else:\n",
    "        return num * factorial(num-1)\n",
    "\n",
    "num = int(input(\"Enter a number: \"))\n",
    "print(\"The factorial of \" +str(num)+ \" is \" + str(factorial(num)))"
   ]
  },
  {
   "cell_type": "code",
   "execution_count": null,
   "id": "12619a51-3059-4f1d-9ade-4a61b05cff86",
   "metadata": {},
   "outputs": [],
   "source": []
  },
  {
   "cell_type": "code",
   "execution_count": 65,
   "id": "4ab79549-ee62-4f87-be0e-5ce59852cd45",
   "metadata": {},
   "outputs": [
    {
     "name": "stdin",
     "output_type": "stream",
     "text": [
      "Enter a number:  6\n"
     ]
    },
    {
     "name": "stdout",
     "output_type": "stream",
     "text": [
      "Not Prime\n"
     ]
    }
   ],
   "source": [
    "from sympy import *\n",
    "def prime(num):\n",
    "    if isprime(num):\n",
    "        return True\n",
    "    else:\n",
    "        return False\n",
    "        \n",
    "num = int(input(\"Enter a number: \"))\n",
    "if(prime(num)):\n",
    "    print(\"Prime\")\n",
    "else:\n",
    "    print(\"Not Prime\")"
   ]
  },
  {
   "cell_type": "code",
   "execution_count": null,
   "id": "bbec3dbe-4198-45cd-9b15-3e0ad2348bd2",
   "metadata": {},
   "outputs": [],
   "source": []
  },
  {
   "cell_type": "code",
   "execution_count": 105,
   "id": "1483f13a-3867-4b69-8fb4-1484155d9edd",
   "metadata": {},
   "outputs": [
    {
     "name": "stdout",
     "output_type": "stream",
     "text": [
      "[66, 89, 700, 67, 44, 66, [56, 89, 67]]\n",
      "56\n"
     ]
    }
   ],
   "source": [
    "a = [66,89,700,67,44,66]\n",
    "b = [56,89,67]\n",
    "a.append(b)\n",
    "print(a)\n",
    "print(a[6][0])"
   ]
  },
  {
   "cell_type": "code",
   "execution_count": null,
   "id": "7689e579-7804-4ad4-8060-ae6aa35b1481",
   "metadata": {},
   "outputs": [],
   "source": []
  },
  {
   "cell_type": "code",
   "execution_count": 107,
   "id": "bcdfd01c-5ed2-46d2-910b-bf500e84563f",
   "metadata": {},
   "outputs": [
    {
     "name": "stdout",
     "output_type": "stream",
     "text": [
      "[66, 89, 700, 67, 44]\n"
     ]
    }
   ],
   "source": [
    "a = [66,89,700,67,44,66]\n",
    "b = [56,89,67]\n",
    "a.pop()\n",
    "print(a)"
   ]
  },
  {
   "cell_type": "code",
   "execution_count": null,
   "id": "27991fcf-0393-4a38-8a57-4dcba75091e2",
   "metadata": {},
   "outputs": [],
   "source": []
  },
  {
   "cell_type": "code",
   "execution_count": 109,
   "id": "b0ba5a46-5990-4ea6-80ec-54a881f024df",
   "metadata": {},
   "outputs": [
    {
     "name": "stdout",
     "output_type": "stream",
     "text": [
      "[66, 89, 700, 44, 66]\n"
     ]
    }
   ],
   "source": [
    "a = [66,89,700,67,44,66]\n",
    "b = [56,89,67]\n",
    "a.remove(67)\n",
    "print(a)"
   ]
  },
  {
   "cell_type": "code",
   "execution_count": null,
   "id": "40611ef5-373d-4c8e-a3f0-4a892709cf75",
   "metadata": {},
   "outputs": [],
   "source": []
  },
  {
   "cell_type": "code",
   "execution_count": 127,
   "id": "76b12e75-383c-4343-af1a-4f5d47cf86d6",
   "metadata": {},
   "outputs": [
    {
     "name": "stdout",
     "output_type": "stream",
     "text": [
      "{1: 'hi', 2: 'hi', 3: 'hi'}\n"
     ]
    }
   ],
   "source": [
    "my_dict = {1:\"hi\",2:\"hi\",3:\"hi\"}\n",
    "print(my_dict)"
   ]
  },
  {
   "cell_type": "code",
   "execution_count": null,
   "id": "c6e32782-86e4-4894-8b29-923f1a297520",
   "metadata": {},
   "outputs": [],
   "source": []
  },
  {
   "cell_type": "code",
   "execution_count": 129,
   "id": "3481fa2b-49c6-4de2-bc4e-3457203e2b46",
   "metadata": {},
   "outputs": [
    {
     "name": "stdout",
     "output_type": "stream",
     "text": [
      "dict_keys([1, 2, 3])\n"
     ]
    }
   ],
   "source": [
    "print(my_dict.keys())"
   ]
  },
  {
   "cell_type": "code",
   "execution_count": null,
   "id": "b972f950-0ba6-418d-bff2-cf3042fd44e7",
   "metadata": {},
   "outputs": [],
   "source": []
  },
  {
   "cell_type": "code",
   "execution_count": 125,
   "id": "eed902a5-8328-45f5-a114-fac53e6524c6",
   "metadata": {},
   "outputs": [
    {
     "name": "stdout",
     "output_type": "stream",
     "text": [
      "dict_keys(['h', 2, 3])\n"
     ]
    }
   ],
   "source": [
    "print(my_dict.keys())"
   ]
  },
  {
   "cell_type": "code",
   "execution_count": null,
   "id": "525d897e-a8f6-4334-aec7-b1a954eb0152",
   "metadata": {},
   "outputs": [],
   "source": []
  },
  {
   "cell_type": "code",
   "execution_count": 151,
   "id": "a43c1ce7-1b6c-4b87-888c-e2b660f931b7",
   "metadata": {},
   "outputs": [
    {
     "name": "stdout",
     "output_type": "stream",
     "text": [
      "Cart items: {'Laptop': 50000, 'Headphones': 2000, 'Mouse': 500, 'Keyboard': 1500, 'Monitor': 800, 'USB Drive': 1000}\n",
      "Total price: 50220.0\n"
     ]
    }
   ],
   "source": [
    "def calculate_total(cart):\n",
    "    \"\"\"\n",
    "    Calculate the total price of items in the cart.\n",
    "    Apply a 10% discount if more than 5 items.\n",
    "    \"\"\"\n",
    "    total = sum(cart.values())\n",
    "    if len(cart)>5:\n",
    "        total *= 0.9 #Apply a 10% discount\n",
    "    return total\n",
    "cart = {'Laptop': 50000, 'Headphones': 2000, 'Mouse': 500, 'Keyboard': 1500, 'Monitor': 800, 'USB Drive':1000}\n",
    "print(f\"Cart items: {cart}\")\n",
    "print(f\"Total price: {calculate_total(cart)}\")"
   ]
  },
  {
   "cell_type": "code",
   "execution_count": null,
   "id": "cd0538c0-bf45-466c-b2c3-d77299f00a53",
   "metadata": {},
   "outputs": [],
   "source": []
  },
  {
   "cell_type": "code",
   "execution_count": 177,
   "id": "3f8005c2-8dc5-491d-9ce8-499f0c658088",
   "metadata": {},
   "outputs": [
    {
     "name": "stdout",
     "output_type": "stream",
     "text": [
      "Cart items: {'Laptop': 50000, 'Headphones': 2000, 'Mouse': 35000, 'Keyboard': 1500, 'Monitor': 800, 'USB Drive': 1000}\n",
      "Total price: 76755.0\n"
     ]
    }
   ],
   "source": [
    "def calculate_total(cart):\n",
    "    \"\"\"\n",
    "    Calculate the total price of items in the cart.\n",
    "    Apply a 10% discount if more than 5 items.\n",
    "    10% discount if total value is between 20k and 50k.\n",
    "    15% discount if total value is more than 50k.\n",
    "    \"\"\"\n",
    "    total = sum(cart.values())\n",
    "    if len(cart)>5:\n",
    "        if total > 20000 and total < 50000:\n",
    "            total *= 0.9\n",
    "        elif total > 50000:\n",
    "            total *= 0.85\n",
    "    return total\n",
    "cart = {'Laptop': 50000, 'Headphones': 2000, 'Mouse': 35000, 'Keyboard': 1500, 'Monitor': 800, 'USB Drive':1000}\n",
    "print(f\"Cart items: {cart}\")\n",
    "print(f\"Total price: {calculate_total(cart)}\")"
   ]
  },
  {
   "cell_type": "code",
   "execution_count": null,
   "id": "7401bddb-fe38-44d0-8f0e-22af6ea9b93f",
   "metadata": {},
   "outputs": [],
   "source": []
  },
  {
   "cell_type": "code",
   "execution_count": 185,
   "id": "ee97224b-d809-43c2-9f5c-e7ae684223a6",
   "metadata": {},
   "outputs": [
    {
     "name": "stdin",
     "output_type": "stream",
     "text": [
      "Enter a number:  5\n"
     ]
    },
    {
     "name": "stdout",
     "output_type": "stream",
     "text": [
      "fibonacci series of 5 is 5\n"
     ]
    }
   ],
   "source": [
    "def fibonacci(num):\n",
    "    if num == 0 or num == 1:\n",
    "        return num\n",
    "    else:\n",
    "        return fibonacci(num-1) + fibonacci(num-2)\n",
    "\n",
    "num = int(input(\"Enter a number: \"))\n",
    "print(f\"fibonacci series of {num} is {fibonacci(num)}\")"
   ]
  },
  {
   "cell_type": "code",
   "execution_count": null,
   "id": "c454ce26-94dd-4e33-a623-9f3b46ff4e5e",
   "metadata": {},
   "outputs": [],
   "source": []
  }
 ],
 "metadata": {
  "kernelspec": {
   "display_name": "Python [conda env:base] *",
   "language": "python",
   "name": "conda-base-py"
  },
  "language_info": {
   "codemirror_mode": {
    "name": "ipython",
    "version": 3
   },
   "file_extension": ".py",
   "mimetype": "text/x-python",
   "name": "python",
   "nbconvert_exporter": "python",
   "pygments_lexer": "ipython3",
   "version": "3.12.7"
  }
 },
 "nbformat": 4,
 "nbformat_minor": 5
}
