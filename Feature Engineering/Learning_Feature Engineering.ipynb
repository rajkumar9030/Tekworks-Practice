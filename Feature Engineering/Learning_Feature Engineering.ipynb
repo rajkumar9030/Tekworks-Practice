{
 "cells": [
  {
   "cell_type": "markdown",
   "id": "5d3d7969-d514-4e83-ba9e-c8aaa1bb6030",
   "metadata": {},
   "source": [
    "**What is Feature Engineering?**\n",
    "- Feature engineering is the process of creating new features or modifying existing ones to improve the performance of machine learning models. It involves techniques like feature extraction, transformation, encoding, and scaling to make data more useful for predictions."
   ]
  },
  {
   "cell_type": "markdown",
   "id": "c9af3cb1-dbf1-4fa5-b407-4e232c5eb903",
   "metadata": {},
   "source": [
    "**Why Do We Need Feature Engineering?**\n",
    "\n",
    " - **Improves Model Performance** – Good features help models make better predictions.\n",
    " \n",
    " - **Reduces Overfitting** – Helps eliminate noise and irrelevant data.\n",
    " \n",
    " - **Handles Missing Data** – Creates meaningful replacements for missing values.\n",
    " \n",
    " - **Enables Better Interpretability** – Makes features more understandable and useful.\n",
    "\n",
    " - **Reduces Dimensionality** – Helps remove unnecessary data points, making the model efficient."
   ]
  },
  {
   "cell_type": "code",
   "execution_count": 59,
   "id": "64b54a89-b017-4107-80cc-2afa2fd7e79c",
   "metadata": {},
   "outputs": [
    {
     "name": "stdout",
     "output_type": "stream",
     "text": [
      "      TransactionDate  DayOfWeek  Hour  IsWeekend\n",
      "0 2025-02-05 14:30:00          2    14          0\n",
      "1 2025-02-06 18:45:00          3    18          0\n"
     ]
    }
   ],
   "source": [
    "# Extract Date and Time Features\n",
    "import pandas as pd\n",
    "\n",
    "# Sample Dataset\n",
    "df = pd.DataFrame({\n",
    "    'TransactionDate' : pd.to_datetime(['2025-02-05 14:30:00', '2025-02-06 18:45:00'])\n",
    "})\n",
    "\n",
    "# Extract date-related features\n",
    "df['DayOfWeek'] = df['TransactionDate'].dt.dayofweek # Monday = 0 , Sunday = 6\n",
    "df['Hour'] = df['TransactionDate'].dt.hour # Extract hour\n",
    "df['IsWeekend'] = df['DayOfWeek'].apply(lambda x : 1 if x >= 5 else 0) # Weekend Flag\n",
    "\n",
    "print(df)\n",
    "\n",
    "# Why ? Helps capture behavioral trends (e.g, shopping habits on weekends vs weekdays)"
   ]
  },
  {
   "cell_type": "code",
   "execution_count": 60,
   "id": "afa2575a-dc4a-4ea8-b6da-4e1e6f664737",
   "metadata": {},
   "outputs": [
    {
     "name": "stdout",
     "output_type": "stream",
     "text": [
      "   UserID  AvgTransactionAmount\n",
      "0     101                 600.0\n",
      "1     102                 350.0\n",
      "2     103                1000.0\n"
     ]
    }
   ],
   "source": [
    "#Aggregated Features\n",
    "#Find avg transactions amount per user\n",
    "df_transactions = pd.DataFrame({\n",
    "    'UserID' : [101,102,101,103,102],\n",
    "    'TransactionAmount' : [500,300,700,1000,400]\n",
    "})\n",
    "\n",
    "df_user_avg = df_transactions.groupby('UserID')['TransactionAmount'].mean().reset_index()\n",
    "df_user_avg.rename(columns={'TransactionAmount' : 'AvgTransactionAmount'},inplace=True)\n",
    "print(df_user_avg)\n",
    "# Why ? Identifies high-value customers and spending patterns"
   ]
  },
  {
   "cell_type": "code",
   "execution_count": 61,
   "id": "cf96299e-4f28-4197-8b1d-b9c8e80fc9ce",
   "metadata": {},
   "outputs": [
    {
     "data": {
      "text/html": [
       "<div>\n",
       "<style scoped>\n",
       "    .dataframe tbody tr th:only-of-type {\n",
       "        vertical-align: middle;\n",
       "    }\n",
       "\n",
       "    .dataframe tbody tr th {\n",
       "        vertical-align: top;\n",
       "    }\n",
       "\n",
       "    .dataframe thead th {\n",
       "        text-align: right;\n",
       "    }\n",
       "</style>\n",
       "<table border=\"1\" class=\"dataframe\">\n",
       "  <thead>\n",
       "    <tr style=\"text-align: right;\">\n",
       "      <th></th>\n",
       "      <th>ProductCategory_Clothing</th>\n",
       "      <th>ProductCategory_Electronics</th>\n",
       "      <th>ProductCategory_Grocery</th>\n",
       "    </tr>\n",
       "  </thead>\n",
       "  <tbody>\n",
       "    <tr>\n",
       "      <th>0</th>\n",
       "      <td>0.0</td>\n",
       "      <td>1.0</td>\n",
       "      <td>0.0</td>\n",
       "    </tr>\n",
       "    <tr>\n",
       "      <th>1</th>\n",
       "      <td>1.0</td>\n",
       "      <td>0.0</td>\n",
       "      <td>0.0</td>\n",
       "    </tr>\n",
       "    <tr>\n",
       "      <th>2</th>\n",
       "      <td>1.0</td>\n",
       "      <td>0.0</td>\n",
       "      <td>0.0</td>\n",
       "    </tr>\n",
       "    <tr>\n",
       "      <th>3</th>\n",
       "      <td>0.0</td>\n",
       "      <td>0.0</td>\n",
       "      <td>1.0</td>\n",
       "    </tr>\n",
       "  </tbody>\n",
       "</table>\n",
       "</div>"
      ],
      "text/plain": [
       "   ProductCategory_Clothing  ProductCategory_Electronics  ProductCategory_Grocery\n",
       "0                       0.0                          1.0                      0.0\n",
       "1                       1.0                          0.0                      0.0\n",
       "2                       1.0                          0.0                      0.0\n",
       "3                       0.0                          0.0                      1.0"
      ]
     },
     "execution_count": 61,
     "metadata": {},
     "output_type": "execute_result"
    }
   ],
   "source": [
    "# Encoding Categorical Variables\n",
    "# Convert ProductCategory (Electronics, Clothing) into numerical form\n",
    "from sklearn.preprocessing import OneHotEncoder\n",
    "df = pd.DataFrame({\n",
    "    'ProductCategory' : ['Electronics', 'Clothing', 'Clothing', 'Grocery']\n",
    "})\n",
    "encoder = OneHotEncoder(sparse_output= False)\n",
    "encoded_features = encoder.fit_transform(df[['ProductCategory']])\n",
    "df_encoded = pd.DataFrame(encoded_features, columns = encoder.get_feature_names_out())\n",
    "df_encoded"
   ]
  },
  {
   "cell_type": "code",
   "execution_count": 62,
   "id": "8c64f6ee-1f3e-4ae7-ad57-2cafb36723a3",
   "metadata": {},
   "outputs": [
    {
     "data": {
      "text/html": [
       "<div>\n",
       "<style scoped>\n",
       "    .dataframe tbody tr th:only-of-type {\n",
       "        vertical-align: middle;\n",
       "    }\n",
       "\n",
       "    .dataframe tbody tr th {\n",
       "        vertical-align: top;\n",
       "    }\n",
       "\n",
       "    .dataframe thead th {\n",
       "        text-align: right;\n",
       "    }\n",
       "</style>\n",
       "<table border=\"1\" class=\"dataframe\">\n",
       "  <thead>\n",
       "    <tr style=\"text-align: right;\">\n",
       "      <th></th>\n",
       "      <th>TransactionAmount</th>\n",
       "      <th>LogTransactionAmount</th>\n",
       "    </tr>\n",
       "  </thead>\n",
       "  <tbody>\n",
       "    <tr>\n",
       "      <th>0</th>\n",
       "      <td>100</td>\n",
       "      <td>4.615121</td>\n",
       "    </tr>\n",
       "    <tr>\n",
       "      <th>1</th>\n",
       "      <td>200</td>\n",
       "      <td>5.303305</td>\n",
       "    </tr>\n",
       "    <tr>\n",
       "      <th>2</th>\n",
       "      <td>5000</td>\n",
       "      <td>8.517393</td>\n",
       "    </tr>\n",
       "    <tr>\n",
       "      <th>3</th>\n",
       "      <td>10000</td>\n",
       "      <td>9.210440</td>\n",
       "    </tr>\n",
       "    <tr>\n",
       "      <th>4</th>\n",
       "      <td>20000</td>\n",
       "      <td>9.903538</td>\n",
       "    </tr>\n",
       "  </tbody>\n",
       "</table>\n",
       "</div>"
      ],
      "text/plain": [
       "   TransactionAmount  LogTransactionAmount\n",
       "0                100              4.615121\n",
       "1                200              5.303305\n",
       "2               5000              8.517393\n",
       "3              10000              9.210440\n",
       "4              20000              9.903538"
      ]
     },
     "execution_count": 62,
     "metadata": {},
     "output_type": "execute_result"
    }
   ],
   "source": [
    "# Log Transformation for Skewed Data\n",
    "# If TransactionAmount has outliers, apply Log transformation\n",
    "\n",
    "import numpy as np\n",
    "df = pd.DataFrame({'TransactionAmount': [100, 200, 5000, 10000, 20000]})\n",
    "df['LogTransactionAmount'] = np.log1p (df['TransactionAmount']) # Log1p avoids Log(0) issues \n",
    "df\n",
    "\n",
    "#Why? Reduces skewness and impact of outliers."
   ]
  },
  {
   "cell_type": "code",
   "execution_count": 63,
   "id": "e6d31826-a246-47b4-874f-0a3f1e1e9e55",
   "metadata": {},
   "outputs": [
    {
     "data": {
      "text/html": [
       "<div>\n",
       "<style scoped>\n",
       "    .dataframe tbody tr th:only-of-type {\n",
       "        vertical-align: middle;\n",
       "    }\n",
       "\n",
       "    .dataframe tbody tr th {\n",
       "        vertical-align: top;\n",
       "    }\n",
       "\n",
       "    .dataframe thead th {\n",
       "        text-align: right;\n",
       "    }\n",
       "</style>\n",
       "<table border=\"1\" class=\"dataframe\">\n",
       "  <thead>\n",
       "    <tr style=\"text-align: right;\">\n",
       "      <th></th>\n",
       "      <th>TransactionAmount</th>\n",
       "      <th>LogTransactionAmount</th>\n",
       "      <th>NormalizedTransactionAmount</th>\n",
       "      <th>StandardizedTransactionAmount</th>\n",
       "    </tr>\n",
       "  </thead>\n",
       "  <tbody>\n",
       "    <tr>\n",
       "      <th>0</th>\n",
       "      <td>100</td>\n",
       "      <td>4.615121</td>\n",
       "      <td>0.000000</td>\n",
       "      <td>-0.937070</td>\n",
       "    </tr>\n",
       "    <tr>\n",
       "      <th>1</th>\n",
       "      <td>200</td>\n",
       "      <td>5.303305</td>\n",
       "      <td>0.005025</td>\n",
       "      <td>-0.923606</td>\n",
       "    </tr>\n",
       "    <tr>\n",
       "      <th>2</th>\n",
       "      <td>5000</td>\n",
       "      <td>8.517393</td>\n",
       "      <td>0.246231</td>\n",
       "      <td>-0.277351</td>\n",
       "    </tr>\n",
       "    <tr>\n",
       "      <th>3</th>\n",
       "      <td>10000</td>\n",
       "      <td>9.210440</td>\n",
       "      <td>0.497487</td>\n",
       "      <td>0.395831</td>\n",
       "    </tr>\n",
       "    <tr>\n",
       "      <th>4</th>\n",
       "      <td>20000</td>\n",
       "      <td>9.903538</td>\n",
       "      <td>1.000000</td>\n",
       "      <td>1.742196</td>\n",
       "    </tr>\n",
       "  </tbody>\n",
       "</table>\n",
       "</div>"
      ],
      "text/plain": [
       "   TransactionAmount  LogTransactionAmount  NormalizedTransactionAmount  StandardizedTransactionAmount\n",
       "0                100              4.615121                     0.000000                      -0.937070\n",
       "1                200              5.303305                     0.005025                      -0.923606\n",
       "2               5000              8.517393                     0.246231                      -0.277351\n",
       "3              10000              9.210440                     0.497487                       0.395831\n",
       "4              20000              9.903538                     1.000000                       1.742196"
      ]
     },
     "execution_count": 63,
     "metadata": {},
     "output_type": "execute_result"
    }
   ],
   "source": [
    "#Feature Scaling\n",
    "from sklearn.preprocessing import MinMaxScaler, StandardScaler\n",
    "\n",
    "scaler = MinMaxScaler()\n",
    "df['NormalizedTransactionAmount'] = scaler.fit_transform(df[['TransactionAmount']])\n",
    "\n",
    "standard_scaler = StandardScaler()\n",
    "df['StandardizedTransactionAmount'] = standard_scaler.fit_transform(df[['TransactionAmount']])\n",
    "df\n",
    "\n",
    "#Why? Ensures all features have the same scale, preventing bias in ML models."
   ]
  },
  {
   "cell_type": "code",
   "execution_count": null,
   "id": "05bafca4-02da-4570-9ad4-ef67c90d7375",
   "metadata": {},
   "outputs": [],
   "source": []
  },
  {
   "cell_type": "markdown",
   "id": "a2c1b762-e61a-4b0f-80fb-a47a5b07b2e0",
   "metadata": {},
   "source": [
    "**Final Summary of Feature Engineering & Imbalanced Data Handling**\n",
    " \n",
    "- Feature Extraction : Extract new insights from raw data (e.g., Hour, DayOfWeek)\n",
    " \n",
    "- Aggregated Features : Calculate meaningful statistics (e.g., AvgTransactionAmountPerUser)\n",
    " \n",
    "- Encoding : Convert categorical variables into numerical (One-Hot Encoding)\n",
    " \n",
    "- Log Transformation : Reduce skewness in data distribution\n",
    " \n",
    "- Feature Scaling : Normalize numerical features for better model performance\n",
    " \n",
    "- Downsampling: Reduce the size of the majority class\n",
    " \n",
    "- Upsampling : Increase the size of the minority class\n",
    " \n",
    "- SMOTE(Synthetic Minority Over-sampling Technique) : Generate synthetic samples for the minority class"
   ]
  },
  {
   "cell_type": "code",
   "execution_count": null,
   "id": "a152ed49-9337-4a6d-b44b-50d5d387f6f4",
   "metadata": {},
   "outputs": [],
   "source": []
  }
 ],
 "metadata": {
  "kernelspec": {
   "display_name": "Python [conda env:base] *",
   "language": "python",
   "name": "conda-base-py"
  },
  "language_info": {
   "codemirror_mode": {
    "name": "ipython",
    "version": 3
   },
   "file_extension": ".py",
   "mimetype": "text/x-python",
   "name": "python",
   "nbconvert_exporter": "python",
   "pygments_lexer": "ipython3",
   "version": "3.12.7"
  }
 },
 "nbformat": 4,
 "nbformat_minor": 5
}
