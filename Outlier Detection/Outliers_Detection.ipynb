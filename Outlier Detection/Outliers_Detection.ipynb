{
 "cells": [
  {
   "cell_type": "raw",
   "id": "e59ea435-86cd-41d7-a428-bd5428eb4acf",
   "metadata": {},
   "source": [
    "What is Outlier ?\n",
    "- An outlier is a data point in a data set that is distinct from all other observations. A data point that lies outside the overall distribution of the dataset."
   ]
  },
  {
   "cell_type": "raw",
   "id": "1e135822-f984-40ba-9e38-96e9751d0c58",
   "metadata": {},
   "source": [
    "What are the criteria to identify an outlier?\n",
    "- Data point that falls outside "
   ]
  },
  {
   "cell_type": "raw",
   "id": "d2472be1-6afb-442a-bc92-5b93b276123b",
   "metadata": {},
   "source": [
    "What is the reason for an outlier to exists in a dataset?\n",
    "- Variability in the data.\n",
    "- An experimental measurement error."
   ]
  },
  {
   "cell_type": "raw",
   "id": "63a5bbf7-0759-42f9-87a1-9ed42064d79e",
   "metadata": {},
   "source": [
    "What are the impacts of having outliers in a dataset?\n",
    "- It causes various problems during our statistical analysis.\n",
    "- It may causes a significant impact on the mean and the standard deviation"
   ]
  },
  {
   "cell_type": "raw",
   "id": "d7f05982-358d-4be9-9929-44e5ec2dca98",
   "metadata": {},
   "source": [
    "Various ways of finding the outliers.\n",
    "- Using Scatter plots\n",
    "- Box plot\n",
    "- Using Z-score\n",
    "- Using the IQR "
   ]
  },
  {
   "cell_type": "code",
   "execution_count": 82,
   "id": "920dafa0-959e-4d92-9209-03d8df7e4a54",
   "metadata": {},
   "outputs": [],
   "source": [
    "import numpy as np\n",
    "import pandas as pd\n",
    "import matplotlib.pyplot as plt\n",
    "import seaborn as sns\n",
    "from scipy.stats import zscore"
   ]
  },
  {
   "cell_type": "code",
   "execution_count": 83,
   "id": "be97d1ff-9090-45e4-8b03-a61803e966ab",
   "metadata": {},
   "outputs": [],
   "source": [
    "# Creating a sample dataset\n",
    "np.random.seed(42)\n",
    "data = np.random.normal(loc=50, scale=10, size=100) # Normal data with mean=50, std=10\n",
    "outliers = np.array([10, 110, 5, 120]) #Outliers\n",
    "data = np.concatenate([data,outliers])"
   ]
  },
  {
   "cell_type": "code",
   "execution_count": 84,
   "id": "016823b4-3840-4208-9f6c-fd1d376c465b",
   "metadata": {},
   "outputs": [
    {
     "data": {
      "text/html": [
       "<div>\n",
       "<style scoped>\n",
       "    .dataframe tbody tr th:only-of-type {\n",
       "        vertical-align: middle;\n",
       "    }\n",
       "\n",
       "    .dataframe tbody tr th {\n",
       "        vertical-align: top;\n",
       "    }\n",
       "\n",
       "    .dataframe thead th {\n",
       "        text-align: right;\n",
       "    }\n",
       "</style>\n",
       "<table border=\"1\" class=\"dataframe\">\n",
       "  <thead>\n",
       "    <tr style=\"text-align: right;\">\n",
       "      <th></th>\n",
       "      <th>Values</th>\n",
       "    </tr>\n",
       "  </thead>\n",
       "  <tbody>\n",
       "    <tr>\n",
       "      <th>0</th>\n",
       "      <td>54.967142</td>\n",
       "    </tr>\n",
       "    <tr>\n",
       "      <th>1</th>\n",
       "      <td>48.617357</td>\n",
       "    </tr>\n",
       "    <tr>\n",
       "      <th>2</th>\n",
       "      <td>56.476885</td>\n",
       "    </tr>\n",
       "    <tr>\n",
       "      <th>3</th>\n",
       "      <td>65.230299</td>\n",
       "    </tr>\n",
       "    <tr>\n",
       "      <th>4</th>\n",
       "      <td>47.658466</td>\n",
       "    </tr>\n",
       "  </tbody>\n",
       "</table>\n",
       "</div>"
      ],
      "text/plain": [
       "      Values\n",
       "0  54.967142\n",
       "1  48.617357\n",
       "2  56.476885\n",
       "3  65.230299\n",
       "4  47.658466"
      ]
     },
     "execution_count": 84,
     "metadata": {},
     "output_type": "execute_result"
    }
   ],
   "source": [
    "# Creating a DataFrame\n",
    "df = pd.DataFrame(data, columns=['Values'])\n",
    "df.head()"
   ]
  },
  {
   "cell_type": "code",
   "execution_count": 85,
   "id": "23a516d9-d788-4b17-979d-14819e825f22",
   "metadata": {},
   "outputs": [
    {
     "data": {
      "text/html": [
       "<div>\n",
       "<style scoped>\n",
       "    .dataframe tbody tr th:only-of-type {\n",
       "        vertical-align: middle;\n",
       "    }\n",
       "\n",
       "    .dataframe tbody tr th {\n",
       "        vertical-align: top;\n",
       "    }\n",
       "\n",
       "    .dataframe thead th {\n",
       "        text-align: right;\n",
       "    }\n",
       "</style>\n",
       "<table border=\"1\" class=\"dataframe\">\n",
       "  <thead>\n",
       "    <tr style=\"text-align: right;\">\n",
       "      <th></th>\n",
       "      <th>Values</th>\n",
       "    </tr>\n",
       "  </thead>\n",
       "  <tbody>\n",
       "    <tr>\n",
       "      <th>99</th>\n",
       "      <td>47.654129</td>\n",
       "    </tr>\n",
       "    <tr>\n",
       "      <th>100</th>\n",
       "      <td>10.000000</td>\n",
       "    </tr>\n",
       "    <tr>\n",
       "      <th>101</th>\n",
       "      <td>110.000000</td>\n",
       "    </tr>\n",
       "    <tr>\n",
       "      <th>102</th>\n",
       "      <td>5.000000</td>\n",
       "    </tr>\n",
       "    <tr>\n",
       "      <th>103</th>\n",
       "      <td>120.000000</td>\n",
       "    </tr>\n",
       "  </tbody>\n",
       "</table>\n",
       "</div>"
      ],
      "text/plain": [
       "         Values\n",
       "99    47.654129\n",
       "100   10.000000\n",
       "101  110.000000\n",
       "102    5.000000\n",
       "103  120.000000"
      ]
     },
     "execution_count": 85,
     "metadata": {},
     "output_type": "execute_result"
    }
   ],
   "source": [
    "df.tail()"
   ]
  },
  {
   "cell_type": "raw",
   "id": "64de248b-ef59-404f-ab56-01c669d70105",
   "metadata": {},
   "source": [
    "Step 2 : Detecting Outliers"
   ]
  },
  {
   "cell_type": "markdown",
   "id": "3bc0793a-77fe-47f8-8d17-1941ecc99b70",
   "metadata": {},
   "source": [
    "## Scatter Plot\n",
    "- A scatter plot helps visually identify extreme values."
   ]
  },
  {
   "cell_type": "code",
   "execution_count": 87,
   "id": "ffe58238-227a-4114-af11-7f2129cbae20",
   "metadata": {},
   "outputs": [
    {
     "data": {
      "image/png": "[encoded data removed]",
      "text/plain": [
       "<Figure size 1200x600 with 1 Axes>"
      ]
     },
     "metadata": {},
     "output_type": "display_data"
    }
   ],
   "source": [
    "plt.figure(figsize=(12,6))\n",
    "plt.scatter(range(len(df)), df['Values'], color='blue', label='Data points')\n",
    "plt.axhline(y=df['Values'].mean(), color='red', linestyle='--', label='Mean')\n",
    "plt.xlabel(\"Index\")\n",
    "plt.ylabel(\"Values\")\n",
    "plt.title(\"Scatter Plot for Outlier Detection\")\n",
    "plt.legend()\n",
    "plt.show()"
   ]
  },
  {
   "cell_type": "markdown",
   "id": "f7ba1fa8-afac-4bbb-b9d0-b2132fb62c90",
   "metadata": {},
   "source": [
    "## Box plot\n",
    "- A box plot is useful for spotting extreme values using quartiles"
   ]
  },
  {
   "cell_type": "code",
   "execution_count": 89,
   "id": "b67a924d-09a6-477d-b3d6-bfb026f55a4a",
   "metadata": {},
   "outputs": [
    {
     "data": {
      "image/png": "[encoded data removed]",
      "text/plain": [
       "<Figure size 1200x600 with 1 Axes>"
      ]
     },
     "metadata": {},
     "output_type": "display_data"
    }
   ],
   "source": [
    "plt.figure(figsize=(12,6))\n",
    "sns.boxplot(data=df, y='Values')\n",
    "plt.title(\"Box plot for Outlier Detection\")\n",
    "plt.show()"
   ]
  },
  {
   "cell_type": "markdown",
   "id": "1f566571-4121-4c1d-afe7-8362d505c2bd",
   "metadata": {},
   "source": [
    "## Z-Score Method"
   ]
  },
  {
   "cell_type": "raw",
   "id": "1ac4ebad-c8ae-4682-b2d8-4038d7c5d88b",
   "metadata": {},
   "source": [
    "The z-score formula is :\n",
    "    z = X–μ/σ\n",
    "where :\n",
    "X = Data Point\n",
    "μ = Mean of the dataset\n",
    "σ = Standard deviation of the dataset"
   ]
  },
  {
   "cell_type": "raw",
   "id": "486b9999-0441-4cb8-b7d1-7eb5d98309db",
   "metadata": {},
   "source": [
    "Steps :\n",
    "1. Compute the Z-score for each data point.\n",
    "2. If Z-score > 3 or Z-score < 3, mark it as outlier."
   ]
  },
  {
   "cell_type": "code",
   "execution_count": 91,
   "id": "baf0ff89-95f8-4fbb-8cfd-1c5a8b4db2d9",
   "metadata": {},
   "outputs": [
    {
     "data": {
      "text/html": [
       "<div>\n",
       "<style scoped>\n",
       "    .dataframe tbody tr th:only-of-type {\n",
       "        vertical-align: middle;\n",
       "    }\n",
       "\n",
       "    .dataframe tbody tr th {\n",
       "        vertical-align: top;\n",
       "    }\n",
       "\n",
       "    .dataframe thead th {\n",
       "        text-align: right;\n",
       "    }\n",
       "</style>\n",
       "<table border=\"1\" class=\"dataframe\">\n",
       "  <thead>\n",
       "    <tr style=\"text-align: right;\">\n",
       "      <th></th>\n",
       "      <th>Values</th>\n",
       "      <th>Z-score</th>\n",
       "      <th>Outlier_Z</th>\n",
       "    </tr>\n",
       "  </thead>\n",
       "  <tbody>\n",
       "    <tr>\n",
       "      <th>101</th>\n",
       "      <td>110.0</td>\n",
       "      <td>4.328173</td>\n",
       "      <td>Outlier</td>\n",
       "    </tr>\n",
       "    <tr>\n",
       "      <th>102</th>\n",
       "      <td>5.0</td>\n",
       "      <td>-3.175368</td>\n",
       "      <td>Outlier</td>\n",
       "    </tr>\n",
       "    <tr>\n",
       "      <th>103</th>\n",
       "      <td>120.0</td>\n",
       "      <td>5.042796</td>\n",
       "      <td>Outlier</td>\n",
       "    </tr>\n",
       "  </tbody>\n",
       "</table>\n",
       "</div>"
      ],
      "text/plain": [
       "     Values   Z-score Outlier_Z\n",
       "101   110.0  4.328173   Outlier\n",
       "102     5.0 -3.175368   Outlier\n",
       "103   120.0  5.042796   Outlier"
      ]
     },
     "execution_count": 91,
     "metadata": {},
     "output_type": "execute_result"
    }
   ],
   "source": [
    "df['Z-score'] = zscore(df['Values'])\n",
    "df['Outlier_Z'] = df['Z-score'].apply(lambda x : 'Outlier' if abs(x) > 3 else 'Normal')\n",
    "df[df['Outlier_Z'] == 'Outlier']"
   ]
  },
  {
   "cell_type": "markdown",
   "id": "18385b09-5d0e-4c0d-bccd-b5bdaf29fe60",
   "metadata": {},
   "source": [
    "## Inter Quartile Range (IQR) Method"
   ]
  },
  {
   "cell_type": "raw",
   "id": "ac8c7b16-1932-4318-af3c-cd59e6aabc44",
   "metadata": {},
   "source": [
    "The IQR formula is :\n",
    "    IQR = Q3 - Q1"
   ]
  },
  {
   "cell_type": "raw",
   "id": "fdbef003-416e-4d66-811e-13640f7d61a5",
   "metadata": {},
   "source": [
    "Steps :\n",
    "1. Calculate Q1 (25th percentile) and Q3 (75th percentile)\n",
    "2. Compute IQR = Q3 - Q1\n",
    "3. Define lower and upper bounds:\n",
    "    - Lower Bound = Q1 - 1.5 * IQR\n",
    "    - Upper Bound = Q3 + 1.5 * IQR\n",
    "4. Any value outside these bounds is an outlier."
   ]
  },
  {
   "cell_type": "code",
   "execution_count": 93,
   "id": "ddbeb0b6-f844-4c30-915f-dcadd7090234",
   "metadata": {},
   "outputs": [
    {
     "data": {
      "text/html": [
       "<div>\n",
       "<style scoped>\n",
       "    .dataframe tbody tr th:only-of-type {\n",
       "        vertical-align: middle;\n",
       "    }\n",
       "\n",
       "    .dataframe tbody tr th {\n",
       "        vertical-align: top;\n",
       "    }\n",
       "\n",
       "    .dataframe thead th {\n",
       "        text-align: right;\n",
       "    }\n",
       "</style>\n",
       "<table border=\"1\" class=\"dataframe\">\n",
       "  <thead>\n",
       "    <tr style=\"text-align: right;\">\n",
       "      <th></th>\n",
       "      <th>Values</th>\n",
       "      <th>Z-score</th>\n",
       "      <th>Outlier_Z</th>\n",
       "      <th>Outlier_IQR</th>\n",
       "    </tr>\n",
       "  </thead>\n",
       "  <tbody>\n",
       "    <tr>\n",
       "      <th>74</th>\n",
       "      <td>23.802549</td>\n",
       "      <td>-1.831694</td>\n",
       "      <td>Normal</td>\n",
       "      <td>Outlier</td>\n",
       "    </tr>\n",
       "    <tr>\n",
       "      <th>100</th>\n",
       "      <td>10.000000</td>\n",
       "      <td>-2.818056</td>\n",
       "      <td>Normal</td>\n",
       "      <td>Outlier</td>\n",
       "    </tr>\n",
       "    <tr>\n",
       "      <th>101</th>\n",
       "      <td>110.000000</td>\n",
       "      <td>4.328173</td>\n",
       "      <td>Outlier</td>\n",
       "      <td>Outlier</td>\n",
       "    </tr>\n",
       "    <tr>\n",
       "      <th>102</th>\n",
       "      <td>5.000000</td>\n",
       "      <td>-3.175368</td>\n",
       "      <td>Outlier</td>\n",
       "      <td>Outlier</td>\n",
       "    </tr>\n",
       "    <tr>\n",
       "      <th>103</th>\n",
       "      <td>120.000000</td>\n",
       "      <td>5.042796</td>\n",
       "      <td>Outlier</td>\n",
       "      <td>Outlier</td>\n",
       "    </tr>\n",
       "  </tbody>\n",
       "</table>\n",
       "</div>"
      ],
      "text/plain": [
       "         Values   Z-score Outlier_Z Outlier_IQR\n",
       "74    23.802549 -1.831694    Normal     Outlier\n",
       "100   10.000000 -2.818056    Normal     Outlier\n",
       "101  110.000000  4.328173   Outlier     Outlier\n",
       "102    5.000000 -3.175368   Outlier     Outlier\n",
       "103  120.000000  5.042796   Outlier     Outlier"
      ]
     },
     "execution_count": 93,
     "metadata": {},
     "output_type": "execute_result"
    }
   ],
   "source": [
    "Q1 = df['Values'].quantile(0.25)\n",
    "Q3 = df['Values'].quantile(0.75)\n",
    "IQR = Q3 - Q1\n",
    "\n",
    "# Defining bounds\n",
    "lower_bound = Q1 - 1.5 * IQR\n",
    "upper_bound = Q3 + 1.5 * IQR\n",
    "\n",
    "# Identifying outliers\n",
    "df['Outlier_IQR'] = df['Values'].apply(lambda x : 'Outlier' if (x < lower_bound or x > upper_bound) else 'Normal')\n",
    "df[df['Outlier_IQR'] == 'Outlier']"
   ]
  },
  {
   "cell_type": "markdown",
   "id": "3453b157-561a-4ac9-9e1a-592a41c974bd",
   "metadata": {},
   "source": [
    "## Final Summary "
   ]
  },
  {
   "cell_type": "raw",
   "id": "d14bcc09-035a-46c6-bf06-ec57f021872a",
   "metadata": {},
   "source": [
    "1. Scatter Plot - Outliers appear far from the main cluster.\n",
    "2. Box Plot - Outliers are outside the whishkers.\n",
    "3. Z-score - Values with Z > 3 or Z < -3 are outliers.\n",
    "4. IQR - Values outside [Q1 - 1.5 * IQR, Q3 + 1.5 * IQR] are outliers."
   ]
  },
  {
   "cell_type": "code",
   "execution_count": null,
   "id": "a86fb830-e76f-4f30-8fad-ffe36a7c6fd9",
   "metadata": {},
   "outputs": [],
   "source": []
  },
  {
   "cell_type": "code",
   "execution_count": null,
   "id": "ff5264ca-d2c5-45df-92e3-aec2a5ae74b5",
   "metadata": {},
   "outputs": [],
   "source": []
  },
  {
   "cell_type": "markdown",
   "id": "a4deb10f-b9fb-4eb4-b92a-b4c8a8496e8f",
   "metadata": {},
   "source": [
    "## Finding Outliers Using the IQR Method with a 5-Number Summary"
   ]
  },
  {
   "cell_type": "raw",
   "id": "fd8d9471-5e51-484b-b355-cc2fd5867959",
   "metadata": {},
   "source": [
    "The 5-number summary consists of :\n",
    "    - Minimum (Q0) - The smallest value in the dataset.\n",
    "    - First Quartile (Q1) - The 25th percentile (lower quartile).\n",
    "    - Median (Q2) - The 50th percentile (middle value).\n",
    "    - Third Quartile (Q3) - The 75th percentile (upper quartile).\n",
    "    - Maximum (Q4) - The largest value in the dataset."
   ]
  },
  {
   "cell_type": "raw",
   "id": "938d44c8-f35d-4596-a5fc-38080666c488",
   "metadata": {},
   "source": [
    "The Interquartile Range (IQR) is calculated as:\n",
    "      IQR = Q3 − Q1\n",
    " \n",
    "Any value outside the range:\n",
    "    [Q1 − 1.5 * IQR, Q3 + 1.5 * IQR]  is considered an outlier."
   ]
  },
  {
   "cell_type": "markdown",
   "id": "05d90561-c58f-47c4-b9f7-7ab7cec8eceb",
   "metadata": {},
   "source": [
    "*Let's generate a dataset, compute the 5-number summary, and find the outliers using the IQR*"
   ]
  },
  {
   "cell_type": "code",
   "execution_count": 97,
   "id": "ebed4964-e24a-4bc4-a6d4-ff39047ed5d8",
   "metadata": {},
   "outputs": [
    {
     "name": "stdout",
     "output_type": "stream",
     "text": [
      "5-Number Summary : \n",
      "    Min : 5.0\n",
      "    Q1 : 43.874401021766715\n",
      "    Median(Q2) : 48.73043708220287\n",
      "    Q3 : 55.00852473036764\n",
      "    Max : 120.0\n",
      "IQR : 11.134123708600924\n",
      "Lower Bound : 27.17321545886533\n",
      "Upper Bound : 71.70971029326903\n",
      "Outliers : [ 23.80254896  10.         110.           5.         120.        ]\n"
     ]
    }
   ],
   "source": [
    "import numpy as np\n",
    "\n",
    "# Step 1 : Create a dataset\n",
    "np.random.seed(42)\n",
    "data = np.random.normal(loc=50, scale=10, size=100) # Normal data with mean=50, std=10\n",
    "outliers = np.array([10, 110, 5, 120]) #Outliers\n",
    "data = np.concatenate([data,outliers])\n",
    "\n",
    "# Step 2 : Compute the 5-number summary\n",
    "Q1 = np.percentile(data, 25)\n",
    "Q2 = np.median(data)\n",
    "Q3 = np.percentile(data, 75)\n",
    "min_value = np.min(data)\n",
    "max_value = np.max(data)\n",
    "\n",
    "# Step 3 : Compute IQR\n",
    "IQR = Q3 - Q1\n",
    "\n",
    "# Step 4 : Compute Outlier Boundaries\n",
    "lower_bound = Q1 - 1.5 * IQR\n",
    "upper_bound = Q3 + 1.5 * IQR\n",
    "\n",
    "# Step 5 : Find Outliers\n",
    "outliers = data[(data < lower_bound) | (data > upper_bound)]\n",
    "\n",
    "# Step 6 : Print Results\n",
    "print(f\"5-Number Summary : \\n    Min : {min_value}\\n    Q1 : {Q1}\\n    Median(Q2) : {Q2}\\n    Q3 : {Q3}\\n    Max : {max_value}\")\n",
    "print(f\"IQR : {IQR}\")\n",
    "print(f\"Lower Bound : {lower_bound}\\nUpper Bound : {upper_bound}\")\n",
    "print(f\"Outliers : {outliers}\")"
   ]
  },
  {
   "cell_type": "code",
   "execution_count": null,
   "id": "ddf809b9-2ccc-4f22-95bf-f90c79d4dedc",
   "metadata": {},
   "outputs": [],
   "source": []
  },
  {
   "cell_type": "code",
   "execution_count": null,
   "id": "0de6f680-097a-478e-b18b-8f9367d0e021",
   "metadata": {},
   "outputs": [],
   "source": []
  }
 ],
 "metadata": {
  "kernelspec": {
   "display_name": "Python [conda env:base] *",
   "language": "python",
   "name": "conda-base-py"
  },
  "language_info": {
   "codemirror_mode": {
    "name": "ipython",
    "version": 3
   },
   "file_extension": ".py",
   "mimetype": "text/x-python",
   "name": "python",
   "nbconvert_exporter": "python",
   "pygments_lexer": "ipython3",
   "version": "3.12.7"
  }
 },
 "nbformat": 4,
 "nbformat_minor": 5
}
