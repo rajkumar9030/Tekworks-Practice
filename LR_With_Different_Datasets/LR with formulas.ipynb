{
 "cells": [
  {
   "cell_type": "code",
   "execution_count": 48,
   "id": "768826cb",
   "metadata": {},
   "outputs": [],
   "source": [
    "import numpy as np\n",
    "import pandas as pd\n",
    "import matplotlib.pyplot as plt\n",
    "import seaborn as sns"
   ]
  },
  {
   "cell_type": "code",
   "execution_count": 49,
   "id": "43c7deb1",
   "metadata": {},
   "outputs": [
    {
     "name": "stdout",
     "output_type": "stream",
     "text": [
      "Slope m : 0.4\n",
      "Intercept c : 2.4\n",
      "Line equation y = 0.4x + 2.4\n"
     ]
    }
   ],
   "source": [
    "x = [1, 2, 3, 4, 5]\n",
    "y = [3, 4, 2, 4, 5]\n",
    "\n",
    "n = len(x)\n",
    "\n",
    "sum_x = sum(x)\n",
    "sum_y = sum(y)\n",
    "\n",
    "sum_xy = sum(x[i] * y[i] for i in range(n))\n",
    "sum_x2 = sum(x[i]**2 for i in range(n))\n",
    "m = (n * sum_xy - sum_x * sum_y) / (n * sum_x2 - sum_x**2)\n",
    "c = (sum_y - m * sum_x) / n\n",
    "\n",
    "print(f\"Slope m : {m}\")\n",
    "print(f\"Intercept c : {c}\")\n",
    "print(f\"Line equation y = {m}x + {c}\")"
   ]
  },
  {
   "cell_type": "code",
   "execution_count": 50,
   "id": "e3b8936b",
   "metadata": {},
   "outputs": [],
   "source": [
    "def LinearRegression(x,y):\n",
    "    x_m = np.mean(x)\n",
    "    y_m = np.mean(y)\n",
    "    num = 0\n",
    "    den = 0\n",
    "    n = len(x)\n",
    "    for i in range(n):\n",
    "        num += (x[i] - x_m) * (y[i] - y_m)\n",
    "        den += (x[i] - x_m) ** 2\n",
    "        \n",
    "    m = num / den\n",
    "    c = y_m - m * x_m\n",
    "    \n",
    "    return m,c\n",
    "\n",
    "        "
   ]
  },
  {
   "cell_type": "code",
   "execution_count": 51,
   "id": "3196ff3a",
   "metadata": {},
   "outputs": [
    {
     "name": "stdout",
     "output_type": "stream",
     "text": [
      "y = 0.4x + 2.4\n"
     ]
    }
   ],
   "source": [
    "m, c = LinearRegression(x,y)\n",
    "print(f\"y = {m}x + {c}\")"
   ]
  },
  {
   "cell_type": "code",
   "execution_count": 52,
   "id": "70f26674",
   "metadata": {},
   "outputs": [],
   "source": [
    "def Predict(x):\n",
    "    y_p = [m * xi + c for xi in x]\n",
    "    return y_p"
   ]
  },
  {
   "cell_type": "code",
   "execution_count": 53,
   "id": "956081a1",
   "metadata": {},
   "outputs": [],
   "source": [
    "y_p = Predict(x)"
   ]
  },
  {
   "cell_type": "code",
   "execution_count": 54,
   "id": "2d602850",
   "metadata": {},
   "outputs": [
    {
     "data": {
      "text/plain": [
       "([3, 4, 2, 4, 5], [2.8, 3.2, 3.6, 4.0, 4.4])"
      ]
     },
     "execution_count": 54,
     "metadata": {},
     "output_type": "execute_result"
    }
   ],
   "source": [
    "y, y_p"
   ]
  },
  {
   "cell_type": "code",
   "execution_count": 55,
   "id": "4b95c2e4",
   "metadata": {},
   "outputs": [],
   "source": [
    "def r2score(y, y_p):\n",
    "    ym = np.mean(y)\n",
    "    print(ym)\n",
    "    num = 0\n",
    "    den = 0\n",
    "    for i in range(len(y)):\n",
    "        num += (y_p[i] - ym) ** 2\n",
    "        den += (y[i] - ym) **2\n",
    "        \n",
    "    return num / den\n"
   ]
  },
  {
   "cell_type": "code",
   "execution_count": 56,
   "id": "31e02ab0",
   "metadata": {},
   "outputs": [
    {
     "name": "stdout",
     "output_type": "stream",
     "text": [
      "3.6\n",
      "0.6923076923076922\n"
     ]
    }
   ],
   "source": [
    "print(1 - r2score(y, y_p))"
   ]
  },
  {
   "cell_type": "code",
   "execution_count": null,
   "id": "6220e672",
   "metadata": {},
   "outputs": [],
   "source": []
  }
 ],
 "metadata": {
  "kernelspec": {
   "display_name": "Python 3 (ipykernel)",
   "language": "python",
   "name": "python3"
  },
  "language_info": {
   "codemirror_mode": {
    "name": "ipython",
    "version": 3
   },
   "file_extension": ".py",
   "mimetype": "text/x-python",
   "name": "python",
   "nbconvert_exporter": "python",
   "pygments_lexer": "ipython3",
   "version": "3.10.9"
  }
 },
 "nbformat": 4,
 "nbformat_minor": 5
}
