{
 "cells": [
  {
   "cell_type": "code",
   "execution_count": 357,
   "id": "d2a2d5bb-aaa8-4a62-b4fd-7890ead85282",
   "metadata": {},
   "outputs": [
    {
     "name": "stdout",
     "output_type": "stream",
     "text": [
      "Requirement already satisfied: numpy in c:\\users\\cvr\\anaconda3\\lib\\site-packages (1.26.4)\n",
      "Note: you may need to restart the kernel to use updated packages.\n"
     ]
    }
   ],
   "source": [
    "pip install numpy"
   ]
  },
  {
   "cell_type": "code",
   "execution_count": 358,
   "id": "5d8ba021-104c-4d91-82d1-237e78418d3d",
   "metadata": {},
   "outputs": [
    {
     "name": "stdout",
     "output_type": "stream",
     "text": [
      "[1 2 3]\n"
     ]
    }
   ],
   "source": [
    "import numpy as np\n",
    "arr = np.array([1,2,3])\n",
    "print(arr)"
   ]
  },
  {
   "cell_type": "code",
   "execution_count": 359,
   "id": "2527f7a8-dc3e-4803-9a3e-f0650aa1b042",
   "metadata": {},
   "outputs": [
    {
     "name": "stdout",
     "output_type": "stream",
     "text": [
      "[[1 2 3]\n",
      " [4 5 6]]\n"
     ]
    }
   ],
   "source": [
    "arr2 = np.array([[1,2,3], [4,5,6]])\n",
    "print(arr2)"
   ]
  },
  {
   "cell_type": "code",
   "execution_count": 360,
   "id": "0749ef2a-5e8d-4473-8fd5-5468c3b31a18",
   "metadata": {},
   "outputs": [
    {
     "name": "stdout",
     "output_type": "stream",
     "text": [
      "4\n"
     ]
    }
   ],
   "source": [
    "print(arr2[1][0])"
   ]
  },
  {
   "cell_type": "code",
   "execution_count": 361,
   "id": "81b80696-5c1d-4084-a79a-8a5cf8f49445",
   "metadata": {},
   "outputs": [
    {
     "name": "stdout",
     "output_type": "stream",
     "text": [
      "[[0. 0. 0.]\n",
      " [0. 0. 0.]]\n"
     ]
    }
   ],
   "source": [
    "zeros_arr = np.zeros((2,3))\n",
    "print(zeros_arr)"
   ]
  },
  {
   "cell_type": "code",
   "execution_count": 362,
   "id": "4a34fec4-6640-481a-b870-bf0c34d63fb0",
   "metadata": {},
   "outputs": [
    {
     "name": "stdout",
     "output_type": "stream",
     "text": [
      "[[1. 1. 1.]\n",
      " [1. 1. 1.]]\n"
     ]
    }
   ],
   "source": [
    "ones_arr = np.ones((2,3))\n",
    "print(ones_arr)"
   ]
  },
  {
   "cell_type": "code",
   "execution_count": 363,
   "id": "944dba5e-6a0d-423c-8679-21f7c44edbd9",
   "metadata": {},
   "outputs": [
    {
     "name": "stdout",
     "output_type": "stream",
     "text": [
      "[[0.9490598 ]\n",
      " [0.95248686]]\n"
     ]
    }
   ],
   "source": [
    "random_arr = np.random.random((2,1))\n",
    "print(random_arr)"
   ]
  },
  {
   "cell_type": "code",
   "execution_count": 364,
   "id": "ad2576e0-dc18-4856-b282-db21c2010c82",
   "metadata": {},
   "outputs": [
    {
     "name": "stdout",
     "output_type": "stream",
     "text": [
      "[[1. 0. 0.]\n",
      " [0. 1. 0.]\n",
      " [0. 0. 1.]]\n"
     ]
    }
   ],
   "source": [
    "identity = np.eye(3)\n",
    "print(identity)"
   ]
  },
  {
   "cell_type": "code",
   "execution_count": 365,
   "id": "01db2648-f79e-44f4-b38d-052a262b3b75",
   "metadata": {},
   "outputs": [
    {
     "name": "stdout",
     "output_type": "stream",
     "text": [
      "[0 2 4 6 8]\n"
     ]
    }
   ],
   "source": [
    "range_arr = np.arange(0,10,2)\n",
    "print(range_arr)"
   ]
  },
  {
   "cell_type": "code",
   "execution_count": 366,
   "id": "d44f73d4-bea5-4c07-a5b2-eee8296845c6",
   "metadata": {},
   "outputs": [
    {
     "name": "stdout",
     "output_type": "stream",
     "text": [
      "Shape :  (2, 3)\n",
      "Size :  6\n",
      "Data type :  int32\n",
      "Number of dimensions :  2\n"
     ]
    }
   ],
   "source": [
    "arr1 = np.array([[1,2,3], [4,5,6]])\n",
    "print(\"Shape : \", arr1.shape)\n",
    "print(\"Size : \", arr1.size)\n",
    "print(\"Data type : \", arr1.dtype)\n",
    "print(\"Number of dimensions : \", arr1.ndim)"
   ]
  },
  {
   "cell_type": "code",
   "execution_count": 367,
   "id": "4af10587-2a03-4f92-a341-3ef91a4fbc0b",
   "metadata": {},
   "outputs": [
    {
     "name": "stdout",
     "output_type": "stream",
     "text": [
      "[[1 2 3]\n",
      " [4 5 6]]\n"
     ]
    }
   ],
   "source": [
    "print(arr1)"
   ]
  },
  {
   "cell_type": "code",
   "execution_count": 368,
   "id": "59a24e43-1013-4523-8847-2b1f12e2e94f",
   "metadata": {},
   "outputs": [
    {
     "name": "stdout",
     "output_type": "stream",
     "text": [
      "2\n"
     ]
    }
   ],
   "source": [
    "print(arr1[0][1])"
   ]
  },
  {
   "cell_type": "code",
   "execution_count": 369,
   "id": "8ea07037-4b3f-4bb6-b50d-d1ae1b226152",
   "metadata": {},
   "outputs": [
    {
     "name": "stdout",
     "output_type": "stream",
     "text": [
      "6\n"
     ]
    }
   ],
   "source": [
    "print(arr1[1][-1])"
   ]
  },
  {
   "cell_type": "code",
   "execution_count": 370,
   "id": "b7b2d893-f903-49e2-863d-f5105123a4d6",
   "metadata": {},
   "outputs": [
    {
     "name": "stdout",
     "output_type": "stream",
     "text": [
      "6\n"
     ]
    }
   ],
   "source": [
    "print(arr1[1][2])"
   ]
  },
  {
   "cell_type": "code",
   "execution_count": 371,
   "id": "1ebe2e37-15c4-4532-8fa5-e9bd4742d2fe",
   "metadata": {},
   "outputs": [
    {
     "name": "stdout",
     "output_type": "stream",
     "text": [
      "[[2 3]\n",
      " [5 6]]\n"
     ]
    }
   ],
   "source": [
    "print(arr1[:,1:])"
   ]
  },
  {
   "cell_type": "code",
   "execution_count": 372,
   "id": "79531b4e-862f-4b74-a2cf-78023dae8ddc",
   "metadata": {},
   "outputs": [
    {
     "name": "stdout",
     "output_type": "stream",
     "text": [
      "[5 7 9]\n",
      "[ 4 10 18]\n"
     ]
    }
   ],
   "source": [
    "a = np.array([1,2,3])\n",
    "b = np.array([4,5,6])\n",
    "print(a+b)\n",
    "print(a*b)"
   ]
  },
  {
   "cell_type": "code",
   "execution_count": 373,
   "id": "0b5e2784-797d-4829-b5df-f69b5892c829",
   "metadata": {},
   "outputs": [
    {
     "name": "stdout",
     "output_type": "stream",
     "text": [
      "[[ 10  22  36]\n",
      " [ 52  70  90]\n",
      " [112 136 162]]\n"
     ]
    }
   ],
   "source": [
    "x = np.array([[1,2,3], [4,5,6], [7,8,9]])\n",
    "y = np.array([[10,11,12], [13,14,15], [16,17,18]])\n",
    "print(x*y)"
   ]
  },
  {
   "cell_type": "code",
   "execution_count": 374,
   "id": "9178a40b-c98b-40a8-8ee5-a6d7910c7b05",
   "metadata": {},
   "outputs": [
    {
     "name": "stdout",
     "output_type": "stream",
     "text": [
      "[[ 84  90  96]\n",
      " [201 216 231]\n",
      " [318 342 366]]\n"
     ]
    }
   ],
   "source": [
    "res = np.dot(x, y)\n",
    "print(res)"
   ]
  },
  {
   "cell_type": "code",
   "execution_count": 375,
   "id": "d0ca4c1f-46f2-4ba6-87fb-6cc34b16bf37",
   "metadata": {},
   "outputs": [
    {
     "data": {
      "image/png": "[encoded data removed]",
      "text/plain": [
       "<Figure size 1200x600 with 1 Axes>"
      ]
     },
     "metadata": {},
     "output_type": "display_data"
    }
   ],
   "source": [
    "import matplotlib.pyplot as plt\n",
    "plt.figure(figsize=(12,6))\n",
    "plt.plot(res)\n",
    "plt.show()"
   ]
  },
  {
   "cell_type": "code",
   "execution_count": 376,
   "id": "d1ff5838-9633-43f9-90f7-6dc1c374d65a",
   "metadata": {},
   "outputs": [
    {
     "name": "stdout",
     "output_type": "stream",
     "text": [
      "[ 2.71828183  7.3890561  20.08553692]\n"
     ]
    }
   ],
   "source": [
    "print(np.exp(arr))"
   ]
  },
  {
   "cell_type": "code",
   "execution_count": 377,
   "id": "6a9594be-bc1f-4be1-883a-2ff009567549",
   "metadata": {},
   "outputs": [
    {
     "name": "stdout",
     "output_type": "stream",
     "text": [
      "[1.         1.41421356 1.73205081]\n"
     ]
    }
   ],
   "source": [
    "print(np.sqrt(arr))"
   ]
  },
  {
   "cell_type": "code",
   "execution_count": 378,
   "id": "307cb30c-35ce-4b5d-b70c-26d9bbf8226b",
   "metadata": {},
   "outputs": [
    {
     "name": "stdout",
     "output_type": "stream",
     "text": [
      "[0.         0.69314718 1.09861229]\n"
     ]
    }
   ],
   "source": [
    "print(np.log(arr))"
   ]
  },
  {
   "cell_type": "code",
   "execution_count": 379,
   "id": "7e54be4f-3624-480e-8ddd-bc43f1e0e62d",
   "metadata": {},
   "outputs": [
    {
     "name": "stdout",
     "output_type": "stream",
     "text": [
      "Sum :  10\n",
      "Mean :  2.5\n",
      "Standard Deviation :  1.118033988749895\n",
      "Max :  4\n",
      "Min :  1\n"
     ]
    }
   ],
   "source": [
    "s = np.array([1,2,3,4])\n",
    "print(\"Sum : \", np.sum(s))\n",
    "print(\"Mean : \", np.mean(s))\n",
    "print(\"Standard Deviation : \", np.std(s))\n",
    "print(\"Max : \", np.max(s))\n",
    "print(\"Min : \", np.min(s))"
   ]
  },
  {
   "cell_type": "code",
   "execution_count": 380,
   "id": "c556fc3b-3426-4300-8bf7-58d35f30259e",
   "metadata": {},
   "outputs": [
    {
     "name": "stdout",
     "output_type": "stream",
     "text": [
      "[[1 2 3]\n",
      " [4 5 6]]\n"
     ]
    }
   ],
   "source": [
    "q = np.array([1,2,3,4,5,6])\n",
    "reshaped = q.reshape(2,3)\n",
    "print(reshaped)"
   ]
  },
  {
   "cell_type": "code",
   "execution_count": 381,
   "id": "cacc2d0e-b2fb-4f04-a87e-8e4822c7b8fb",
   "metadata": {},
   "outputs": [
    {
     "name": "stdout",
     "output_type": "stream",
     "text": [
      "[[1 2 3]\n",
      " [4 5 6]]\n"
     ]
    }
   ],
   "source": [
    "s1 = np.array([1,2])\n",
    "s2 = np.array([4,5])\n",
    "print(np.vstack((a,b)))\n"
   ]
  },
  {
   "cell_type": "code",
   "execution_count": 382,
   "id": "e7642935-f9d6-487a-b82d-04babbbe495e",
   "metadata": {},
   "outputs": [
    {
     "name": "stdout",
     "output_type": "stream",
     "text": [
      "[1 2 3 4 5 6]\n"
     ]
    }
   ],
   "source": [
    "print(np.hstack((a,b)))"
   ]
  },
  {
   "cell_type": "code",
   "execution_count": 383,
   "id": "c4599791-9863-4b5d-b75d-4530c0c74f56",
   "metadata": {},
   "outputs": [
    {
     "name": "stdout",
     "output_type": "stream",
     "text": [
      "[array([1, 2]), array([3, 4]), array([5, 6])]\n"
     ]
    }
   ],
   "source": [
    "print(np.array_split(q,3))"
   ]
  },
  {
   "cell_type": "code",
   "execution_count": 384,
   "id": "4f35a2ec-81de-4dbc-ab1c-e63f006473da",
   "metadata": {},
   "outputs": [
    {
     "name": "stdout",
     "output_type": "stream",
     "text": [
      "[10  2  3]\n"
     ]
    }
   ],
   "source": [
    "view = arr.view()\n",
    "view[0] = 10\n",
    "print(arr)"
   ]
  },
  {
   "cell_type": "code",
   "execution_count": 385,
   "id": "26214add-6faa-4f3c-a4c1-695b91f03959",
   "metadata": {},
   "outputs": [
    {
     "name": "stdout",
     "output_type": "stream",
     "text": [
      "[10  2  3]\n"
     ]
    }
   ],
   "source": [
    "copy = arr.copy()\n",
    "copy[0] = 100\n",
    "print(arr)"
   ]
  },
  {
   "cell_type": "code",
   "execution_count": 386,
   "id": "11a1bf6e-d3ca-4adf-819d-01a134903946",
   "metadata": {},
   "outputs": [],
   "source": [
    "np.save(\"array.npy\",arr)"
   ]
  },
  {
   "cell_type": "code",
   "execution_count": 387,
   "id": "c93f7bc2-4689-40e5-ba99-5b61a5bfa57a",
   "metadata": {},
   "outputs": [
    {
     "name": "stdout",
     "output_type": "stream",
     "text": [
      "[10  2  3]\n"
     ]
    }
   ],
   "source": [
    "loaded_arr = np.load(\"array.npy\")\n",
    "print(loaded_arr)"
   ]
  }
 ],
 "metadata": {
  "kernelspec": {
   "display_name": "Python [conda env:base] *",
   "language": "python",
   "name": "conda-base-py"
  },
  "language_info": {
   "codemirror_mode": {
    "name": "ipython",
    "version": 3
   },
   "file_extension": ".py",
   "mimetype": "text/x-python",
   "name": "python",
   "nbconvert_exporter": "python",
   "pygments_lexer": "ipython3",
   "version": "3.12.7"
  }
 },
 "nbformat": 4,
 "nbformat_minor": 5
}
