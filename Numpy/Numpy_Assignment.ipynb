{
 "cells": [
  {
   "cell_type": "code",
   "execution_count": 13,
   "id": "d03783df",
   "metadata": {},
   "outputs": [
    {
     "name": "stdout",
     "output_type": "stream",
     "text": [
      "[10 11 12 13 14 15 16 17 18 19 20 21 22 23 24 25 26 27 28 29 30 31 32 33\n",
      " 34 35 36 37 38 39 40 41 42 43 44 45 46 47 48 49 50]\n"
     ]
    }
   ],
   "source": [
    "import numpy as np\n",
    "# Create a 1D array of numbers from 10 to 50.\n",
    "array_1d = np.arange(10, 51)\n",
    "print(array_1d)"
   ]
  },
  {
   "cell_type": "code",
   "execution_count": 14,
   "id": "b0167e91",
   "metadata": {},
   "outputs": [
    {
     "name": "stdout",
     "output_type": "stream",
     "text": [
      "[[0.80298135 0.30017309 0.21255277]\n",
      " [0.90119944 0.64163912 0.10011833]\n",
      " [0.16245244 0.91634015 0.16040641]]\n"
     ]
    }
   ],
   "source": [
    "# Create a 3x3 array of random numbers between 0 and 1.\n",
    "array_3x3 = np.random.rand(3, 3)\n",
    "print(array_3x3)"
   ]
  },
  {
   "cell_type": "code",
   "execution_count": 15,
   "id": "97e4f20d",
   "metadata": {},
   "outputs": [
    {
     "name": "stdout",
     "output_type": "stream",
     "text": [
      "Shape: (3, 3)\n",
      "Size: 9\n",
      "Data type: float64\n"
     ]
    }
   ],
   "source": [
    "# Find the shape, size, and data type of the array you created in the previous task.\n",
    "shape = array_3x3.shape\n",
    "size = array_3x3.size\n",
    "data_type = array_3x3.dtype\n",
    "print(\"Shape:\", shape)\n",
    "print(\"Size:\", size)\n",
    "print(\"Data type:\", data_type)"
   ]
  },
  {
   "cell_type": "code",
   "execution_count": 16,
   "id": "19df1e99",
   "metadata": {},
   "outputs": [
    {
     "name": "stdout",
     "output_type": "stream",
     "text": [
      "1D array + 5: [15 16 17 18 19 20 21 22 23 24 25 26 27 28 29 30 31 32 33 34 35 36 37 38\n",
      " 39 40 41 42 43 44 45 46 47 48 49 50 51 52 53 54 55]\n"
     ]
    }
   ],
   "source": [
    "# Add 5 to every element of a 1D array.\n",
    "array_1d_plus_5 = array_1d + 5\n",
    "print(\"1D array + 5:\", array_1d_plus_5)"
   ]
  },
  {
   "cell_type": "code",
   "execution_count": 17,
   "id": "3aed6649",
   "metadata": {},
   "outputs": [
    {
     "name": "stdout",
     "output_type": "stream",
     "text": [
      "Element-wise multiplication:\n",
      " [[0.49134326 0.16869539 0.14129031]\n",
      " [0.15835314 0.57323783 0.03320749]\n",
      " [0.07455776 0.33751542 0.15119012]]\n"
     ]
    }
   ],
   "source": [
    "# Multiply two 2D arrays element-wise.\n",
    "array_3x3_2 = np.random.rand(3, 3)\n",
    "elementwise_multiplication = array_3x3 * array_3x3_2\n",
    "print(\"Element-wise multiplication:\\n\", elementwise_multiplication)"
   ]
  },
  {
   "cell_type": "code",
   "execution_count": 18,
   "id": "5247ba48",
   "metadata": {},
   "outputs": [
    {
     "name": "stdout",
     "output_type": "stream",
     "text": [
      "5x5 array:\n",
      " [[ 1  2  3  4  5]\n",
      " [ 6  7  8  9 10]\n",
      " [11 12 13 14 15]\n",
      " [16 17 18 19 20]\n",
      " [21 22 23 24 25]]\n",
      "First row: [1 2 3 4 5]\n",
      "Last column: [ 5 10 15 20 25]\n"
     ]
    }
   ],
   "source": [
    "# 5x5 array of integers from 1 to 25\n",
    "array_5x5 = np.arange(1, 26).reshape(5, 5)\n",
    "print(\"5x5 array:\\n\", array_5x5)\n",
    "\n",
    "# Extract the first row\n",
    "first_row = array_5x5[0]\n",
    "print(\"First row:\", first_row)\n",
    "\n",
    "# Extract the last column\n",
    "last_column = array_5x5[:, -1]\n",
    "print(\"Last column:\", last_column)"
   ]
  },
  {
   "cell_type": "code",
   "execution_count": 19,
   "id": "cdecee12",
   "metadata": {},
   "outputs": [
    {
     "name": "stdout",
     "output_type": "stream",
     "text": [
      "Subarray:\n",
      " [[ 1  2]\n",
      " [ 6  7]\n",
      " [11 12]]\n"
     ]
    }
   ],
   "source": [
    "# Subarray of the first three rows and first two columns\n",
    "subarray = array_5x5[:3, :2]\n",
    "print(\"Subarray:\\n\", subarray)"
   ]
  },
  {
   "cell_type": "code",
   "execution_count": 20,
   "id": "7e698c63",
   "metadata": {},
   "outputs": [
    {
     "name": "stdout",
     "output_type": "stream",
     "text": [
      "Random array: [25 94 72 76 74 71 68 68 76 34]\n"
     ]
    }
   ],
   "source": [
    "# 10-element array of random integers between 1 and 100\n",
    "random_array = np.random.randint(1, 101, 10)\n",
    "print(\"Random array:\", random_array)"
   ]
  },
  {
   "cell_type": "code",
   "execution_count": 21,
   "id": "9749fd78",
   "metadata": {},
   "outputs": [
    {
     "name": "stdout",
     "output_type": "stream",
     "text": [
      "Max: 94\n",
      "Min: 25\n",
      "Mean: 65.8\n",
      "Std Dev: 19.548913013259842\n"
     ]
    }
   ],
   "source": [
    "# Find max, min, mean, and standard deviation\n",
    "max_value = random_array.max()\n",
    "min_value = random_array.min()\n",
    "mean_value = random_array.mean()\n",
    "std_dev = random_array.std()\n",
    "print(\"Max:\", max_value)\n",
    "print(\"Min:\", min_value)\n",
    "print(\"Mean:\", mean_value)\n",
    "print(\"Std Dev:\", std_dev)"
   ]
  },
  {
   "cell_type": "code",
   "execution_count": 22,
   "id": "7861042b",
   "metadata": {},
   "outputs": [
    {
     "name": "stdout",
     "output_type": "stream",
     "text": [
      "Reshaped 3x4 matrix:\n",
      " [[ 1  2  3  4]\n",
      " [ 5  6  7  8]\n",
      " [ 9 10 11 12]]\n"
     ]
    }
   ],
   "source": [
    "# Convert a 1D array of numbers from 1 to 12 into a 3x4 matrix\n",
    "array_reshaped = np.arange(1, 13).reshape(3, 4)\n",
    "print(\"Reshaped 3x4 matrix:\\n\", array_reshaped)"
   ]
  },
  {
   "cell_type": "code",
   "execution_count": 23,
   "id": "3814b266",
   "metadata": {},
   "outputs": [
    {
     "name": "stdout",
     "output_type": "stream",
     "text": [
      "Broadcasted matrix:\n",
      " [[2. 3. 4.]\n",
      " [2. 3. 4.]\n",
      " [2. 3. 4.]]\n"
     ]
    }
   ],
   "source": [
    "# 3x3 matrix of ones\n",
    "matrix_ones = np.ones((3, 3))\n",
    "\n",
    "# Add a 1D array [1, 2, 3] to each row\n",
    "broadcasted_matrix = matrix_ones + np.array([1, 2, 3])\n",
    "print(\"Broadcasted matrix:\\n\", broadcasted_matrix)"
   ]
  },
  {
   "cell_type": "code",
   "execution_count": 24,
   "id": "1571fe44",
   "metadata": {},
   "outputs": [
    {
     "name": "stdout",
     "output_type": "stream",
     "text": [
      "Random array for filtering: [44 32 24 20 38 12 39 16 50 44 44 46 28 42 26 43  5 45 22 49]\n"
     ]
    }
   ],
   "source": [
    "# Create a 1D array of random integers between 1 and 50\n",
    "random_array_filter = np.random.randint(1, 51, 20)\n",
    "print(\"Random array for filtering:\", random_array_filter)"
   ]
  },
  {
   "cell_type": "code",
   "execution_count": 25,
   "id": "65138761",
   "metadata": {},
   "outputs": [
    {
     "name": "stdout",
     "output_type": "stream",
     "text": [
      "Elements divisible by 5: [20 50  5 45]\n"
     ]
    }
   ],
   "source": [
    "# Extract elements divisible by 5\n",
    "divisible_by_5 = random_array_filter[random_array_filter % 5 == 0]\n",
    "print(\"Elements divisible by 5:\", divisible_by_5)"
   ]
  },
  {
   "cell_type": "code",
   "execution_count": 26,
   "id": "9e7860e7",
   "metadata": {},
   "outputs": [
    {
     "name": "stdout",
     "output_type": "stream",
     "text": [
      "Matrix multiplication result:\n",
      " [[19 22]\n",
      " [43 50]]\n"
     ]
    }
   ],
   "source": [
    "# Create two 2x2 matrices and perform matrix multiplication\n",
    "matrix_a = np.array([[1, 2], [3, 4]])\n",
    "matrix_b = np.array([[5, 6], [7, 8]])\n",
    "matrix_multiplication = np.dot(matrix_a, matrix_b)\n",
    "print(\"Matrix multiplication result:\\n\", matrix_multiplication)"
   ]
  },
  {
   "cell_type": "code",
   "execution_count": 27,
   "id": "1a7bdf59",
   "metadata": {},
   "outputs": [
    {
     "name": "stdout",
     "output_type": "stream",
     "text": [
      "4x4 array:\n",
      " [[ 1  2  3  4]\n",
      " [ 5  6  7  8]\n",
      " [ 9 10 11 12]\n",
      " [13 14 15 16]]\n",
      "Diagonal elements: [ 1  6 11 16]\n"
     ]
    }
   ],
   "source": [
    "# Given a 4x4 array, use fancy indexing to extract diagonal elements\n",
    "array_4x4 = np.arange(1, 17).reshape(4, 4)\n",
    "diagonal_elements = array_4x4[[0, 1, 2, 3], [0, 1, 2, 3]]\n",
    "print(\"4x4 array:\\n\", array_4x4)\n",
    "print(\"Diagonal elements:\", diagonal_elements)"
   ]
  },
  {
   "cell_type": "code",
   "execution_count": null,
   "id": "30ddd3e0",
   "metadata": {},
   "outputs": [],
   "source": []
  },
  {
   "cell_type": "code",
   "execution_count": null,
   "id": "e3fce3c9",
   "metadata": {},
   "outputs": [],
   "source": []
  }
 ],
 "metadata": {
  "kernelspec": {
   "display_name": "Python 3 (ipykernel)",
   "language": "python",
   "name": "python3"
  },
  "language_info": {
   "codemirror_mode": {
    "name": "ipython",
    "version": 3
   },
   "file_extension": ".py",
   "mimetype": "text/x-python",
   "name": "python",
   "nbconvert_exporter": "python",
   "pygments_lexer": "ipython3",
   "version": "3.10.9"
  }
 },
 "nbformat": 4,
 "nbformat_minor": 5
}
