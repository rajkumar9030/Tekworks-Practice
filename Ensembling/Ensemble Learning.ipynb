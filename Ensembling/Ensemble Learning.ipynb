{
 "cells": [
  {
   "cell_type": "markdown",
   "id": "070d94a7",
   "metadata": {},
   "source": [
    "## What is Ensemble learning?\n",
    "- An Ensemble method is a technique that combines the predictions from multiple machine learning algorithms together to make more accurate predictions than any individual model. \n",
    "- A model comprised of many models is called an Ensemble model."
   ]
  },
  {
   "cell_type": "markdown",
   "id": "5b27a9d6",
   "metadata": {},
   "source": [
    "- Many Ensemble methods contain the same type of learning algorithms which are called homogeneous ensembles but there are\n",
    "  also some methods that contain different types of learning algorithms and they are called heterogeneous ensembles."
   ]
  },
  {
   "cell_type": "markdown",
   "id": "ca8f6faf",
   "metadata": {},
   "source": [
    "## Types of Ensemble Learning\n",
    "1. Bagging\n",
    "2. Boosting"
   ]
  },
  {
   "cell_type": "markdown",
   "id": "50c71388",
   "metadata": {},
   "source": [
    "## Bootstrap Aggregation (Bagging)\n",
    "- There are two main key ingredients of Bagging one is bootstrap and aggregation.\n",
    "- It is a general procedure that can be used to reduce the variance for that algorithm that has high variance, typically decision trees. Bagging makes each model run independently and then aggregates the outputs at the end without preference to any model.\n",
    "- Random forest is a bagging technique"
   ]
  },
  {
   "cell_type": "markdown",
   "id": "f841da65",
   "metadata": {},
   "source": [
    "- In Bagging, we actually combine several strong learners in which all the base models are overfitted models they having a very high variance and at the time of aggregation we simply try to reduce that variance without affecting the bias with which the accuracy may improve."
   ]
  },
  {
   "cell_type": "markdown",
   "id": "df5b5502",
   "metadata": {},
   "source": [
    "## Boosting\n",
    "- Boosting is a kind of algorithms that is able to convert weak learners to strong learners. \n",
    "- In a Boosting technique, each algorithm i.e. base learners are trained sequentially and at every time the next learner is trying to reduce the error by updating the parameters and perform better in comparison to the previous learner.\n",
    "- Boosting works by training a different set of learners sequentially and combining them for prediction, where the later learners focus more on the mistakes of the earlier learners."
   ]
  },
  {
   "cell_type": "markdown",
   "id": "eef39984",
   "metadata": {},
   "source": [
    "### Boosting Methods\n",
    "1. AdaBoost\n",
    "2. Gradient Boosting\n",
    "3. XGBoost"
   ]
  },
  {
   "cell_type": "markdown",
   "id": "b41489b0",
   "metadata": {},
   "source": [
    "## AdaBoost\n",
    "- AdaBoost assigns higher weights to misclassified data points in each iteration ensuring subsequent models focus on these points. - The influence of each weak learner is determined by its classification error.\n",
    "- AdaBoost (Adaptive Boosting) is an ensemble learning algorithm that improves classification accuracy by combining multiple decision trees. \n",
    "- It assigns equal weights to all training samples initially and iteratively adjusts these weights by focusing more on misclassified datapoints for next model. \n",
    "- It effectively reduces bias and variance making it useful for classification tasks but it can be sensitive to noisy data and outliers."
   ]
  },
  {
   "cell_type": "markdown",
   "id": "8901f8bd",
   "metadata": {},
   "source": [
    "## Gradient Boosting\n",
    "- Gradient Boosting is a ensemble learning method used for classification and regression tasks. \n",
    "- It is a boosting algorithm which combine multiple weak learner to create a strong predictive model. \n",
    "- It works by sequentially training models where each new model tries to correct the errors made by its predecessor.\n",
    "- In gradient boosting each new model is trained to minimize the loss function such as mean squared error or cross-entropy of the previous model using gradient descent. \n",
    "- In each iteration the algorithm computes the gradient of the loss function with respect to the predictions and then trains a new weak model to minimize this gradient. \n",
    "- The predictions of the new model are then added to the ensemble and the process is repeated until a stopping criterion is met."
   ]
  },
  {
   "cell_type": "markdown",
   "id": "e312843e",
   "metadata": {},
   "source": [
    "## XGBoost\n",
    "- XGBoost is an optimized implementation of Gradient Boosting and is a type of ensemble learning method. \n",
    "- Ensemble learning combines multiple weak models to form a stronger model.\n",
    "\n",
    "### How it Works?\n",
    "- XGBoost uses decision trees as its base learners combining them sequentially to improve the model's performance. \n",
    "- Each new tree is trained to correct the errors made by the previous tree and this process is called boosting.\n",
    "- It has built-in parallel processing to train models on large datasets quickly. \n",
    "- XGBoost also supports customizations allowing users to adjust model parameters to optimize performance based on the specific problem."
   ]
  },
  {
   "cell_type": "markdown",
   "id": "a5efbb9d",
   "metadata": {},
   "source": [
    "# Final Outcomes\n",
    "### Bagging - Decrease Variance\n",
    "### Boosting - Reduce the bias"
   ]
  },
  {
   "cell_type": "code",
   "execution_count": 9,
   "id": "b2d1ac91",
   "metadata": {},
   "outputs": [],
   "source": [
    "# Load and preprocess dataset\n",
    "from sklearn.datasets import load_breast_cancer\n",
    "from sklearn.model_selection import train_test_split\n",
    "from sklearn.preprocessing import StandardScaler"
   ]
  },
  {
   "cell_type": "code",
   "execution_count": 10,
   "id": "2bda20ea",
   "metadata": {},
   "outputs": [],
   "source": [
    "# Load dataset\n",
    "data = load_breast_cancer()\n",
    "X, y = data.data, data.target"
   ]
  },
  {
   "cell_type": "code",
   "execution_count": 11,
   "id": "abeb0974",
   "metadata": {},
   "outputs": [],
   "source": [
    "# Split and scale\n",
    "X_train, X_test, y_train, y_test = train_test_split(X, y, test_size=0.2, random_state=42)\n",
    "scaler = StandardScaler()\n",
    "X_train_scaled = scaler.fit_transform(X_train)\n",
    "X_test_scaled = scaler.transform(X_test)"
   ]
  },
  {
   "cell_type": "code",
   "execution_count": 12,
   "id": "a0e18ccb",
   "metadata": {},
   "outputs": [],
   "source": [
    "# Train Bagging, AdaBoost, and Gradient Boosting models\n",
    "from sklearn.ensemble import BaggingClassifier, AdaBoostClassifier, GradientBoostingClassifier, RandomForestClassifier\n",
    "from xgboost import XGBClassifier\n",
    "from sklearn.metrics import accuracy_score"
   ]
  },
  {
   "cell_type": "code",
   "execution_count": 13,
   "id": "631c1ef5",
   "metadata": {},
   "outputs": [],
   "source": [
    "# Bagging\n",
    "bagging = BaggingClassifier(RandomForestClassifier(), n_estimators=50, random_state=42)\n",
    "bagging.fit(X_train_scaled, y_train)\n",
    "bagging_acc = accuracy_score(y_test, bagging.predict(X_test_scaled))"
   ]
  },
  {
   "cell_type": "code",
   "execution_count": 14,
   "id": "cfcc094f",
   "metadata": {},
   "outputs": [],
   "source": [
    "# AdaBoost\n",
    "ada = AdaBoostClassifier(n_estimators=50, random_state=42)\n",
    "ada.fit(X_train_scaled, y_train)\n",
    "ada_acc = accuracy_score(y_test, ada.predict(X_test_scaled))"
   ]
  },
  {
   "cell_type": "code",
   "execution_count": 15,
   "id": "c270d265",
   "metadata": {},
   "outputs": [],
   "source": [
    "# Gradient Boosting\n",
    "gb = GradientBoostingClassifier(n_estimators=100, learning_rate=0.1, random_state=42) # Learning rate initializes the weights\n",
    "gb.fit(X_train_scaled, y_train)\n",
    "gb_acc = accuracy_score(y_test, gb.predict(X_test_scaled))"
   ]
  },
  {
   "cell_type": "code",
   "execution_count": 16,
   "id": "97681476",
   "metadata": {},
   "outputs": [
    {
     "name": "stderr",
     "output_type": "stream",
     "text": [
      "C:\\Users\\pardh\\anaconda3\\lib\\site-packages\\xgboost\\training.py:183: UserWarning: [15:11:25] WARNING: C:\\actions-runner\\_work\\xgboost\\xgboost\\src\\learner.cc:738: \n",
      "Parameters: { \"use_label_encoder\" } are not used.\n",
      "\n",
      "  bst.update(dtrain, iteration=i, fobj=obj)\n"
     ]
    }
   ],
   "source": [
    "# XGBoost\n",
    "xgb = XGBClassifier(use_label_encoder=False, eval_metric='logloss', n_estimators=50, random_state=42)\n",
    "xgb.fit(X_train_scaled, y_train)\n",
    "xgb_acc = accuracy_score(y_test, xgb.predict(X_test_scaled))"
   ]
  },
  {
   "cell_type": "code",
   "execution_count": 17,
   "id": "68f0a604",
   "metadata": {},
   "outputs": [
    {
     "data": {
      "text/html": [
       "<div>\n",
       "<style scoped>\n",
       "    .dataframe tbody tr th:only-of-type {\n",
       "        vertical-align: middle;\n",
       "    }\n",
       "\n",
       "    .dataframe tbody tr th {\n",
       "        vertical-align: top;\n",
       "    }\n",
       "\n",
       "    .dataframe thead th {\n",
       "        text-align: right;\n",
       "    }\n",
       "</style>\n",
       "<table border=\"1\" class=\"dataframe\">\n",
       "  <thead>\n",
       "    <tr style=\"text-align: right;\">\n",
       "      <th></th>\n",
       "      <th>model</th>\n",
       "      <th>Accuracy Score</th>\n",
       "    </tr>\n",
       "  </thead>\n",
       "  <tbody>\n",
       "    <tr>\n",
       "      <th>0</th>\n",
       "      <td>bagging</td>\n",
       "      <td>0.964912</td>\n",
       "    </tr>\n",
       "    <tr>\n",
       "      <th>1</th>\n",
       "      <td>adaboost</td>\n",
       "      <td>0.973684</td>\n",
       "    </tr>\n",
       "    <tr>\n",
       "      <th>2</th>\n",
       "      <td>gradient boosting</td>\n",
       "      <td>0.956140</td>\n",
       "    </tr>\n",
       "    <tr>\n",
       "      <th>3</th>\n",
       "      <td>XGboosting</td>\n",
       "      <td>0.956140</td>\n",
       "    </tr>\n",
       "  </tbody>\n",
       "</table>\n",
       "</div>"
      ],
      "text/plain": [
       "               model  Accuracy Score\n",
       "0            bagging        0.964912\n",
       "1           adaboost        0.973684\n",
       "2  gradient boosting        0.956140\n",
       "3         XGboosting        0.956140"
      ]
     },
     "execution_count": 17,
     "metadata": {},
     "output_type": "execute_result"
    }
   ],
   "source": [
    "import pandas as pd\n",
    "result_df = pd.DataFrame({\n",
    "    'model' : ['bagging', 'adaboost', 'gradient boosting', 'XGboosting'],\n",
    "    'Accuracy Score' : [bagging_acc, ada_acc, gb_acc, xgb_acc]\n",
    "})\n",
    "result_df"
   ]
  },
  {
   "cell_type": "code",
   "execution_count": 19,
   "id": "3ac3fe75",
   "metadata": {},
   "outputs": [
    {
     "data": {
      "image/png": "[encoded data removed]",
      "text/plain": [
       "<Figure size 800x500 with 1 Axes>"
      ]
     },
     "metadata": {},
     "output_type": "display_data"
    }
   ],
   "source": [
    "import matplotlib.pyplot as plt\n",
    "import seaborn as sns\n",
    "\n",
    "plt.figure(figsize=(8, 5))\n",
    "sns.barplot(x='model', y='Accuracy Score', data=result_df, palette='viridis')\n",
    "\n",
    "plt.xlabel(\"Model\")\n",
    "plt.ylabel(\"Accuracy Score\")\n",
    "plt.title(\"Model Accuracy Comparison\")\n",
    "plt.xticks(rotation=45)\n",
    "\n",
    "plt.show()"
   ]
  },
  {
   "cell_type": "code",
   "execution_count": null,
   "id": "343d5999",
   "metadata": {},
   "outputs": [],
   "source": []
  }
 ],
 "metadata": {
  "kernelspec": {
   "display_name": "Python 3 (ipykernel)",
   "language": "python",
   "name": "python3"
  },
  "language_info": {
   "codemirror_mode": {
    "name": "ipython",
    "version": 3
   },
   "file_extension": ".py",
   "mimetype": "text/x-python",
   "name": "python",
   "nbconvert_exporter": "python",
   "pygments_lexer": "ipython3",
   "version": "3.10.9"
  }
 },
 "nbformat": 4,
 "nbformat_minor": 5
}
